{
 "cells": [
  {
   "cell_type": "markdown",
   "metadata": {},
   "source": [
    "# Convert weather csv to json\n",
    "----\n"
   ]
  },
  {
   "cell_type": "code",
   "execution_count": 11,
   "metadata": {
    "scrolled": true
   },
   "outputs": [],
   "source": [
    "import csv \n",
    "import json\n",
    "\n",
    "csvFilePath = open('Resources/weather.csv','r')\n",
    "jsonFilePath = open('Resources/weather.json', 'w')\n",
    "\n",
    "def csv_to_json(csvFilePath, jsonFilePath):\n",
    "    csv_rows = []\n",
    "      \n",
    "    #read csv file\n",
    "    with open(csvFilePath, encoding='utf-8') as csvf: \n",
    "        #load csv file data using csv library's dictionary reader\n",
    "        csvReader = csv.DictReader(csvf) \n",
    "        \n",
    "        #convert each csv row into python dict\n",
    "        for row in csvReader: \n",
    "            #add this python dict to json array\n",
    "            csv_rows.append(row)\n",
    "            \n",
    "        #convert python jsonArray to JSON String and write to file\n",
    "    with open(jsonFilePath, 'w', encoding='utf-8') as jsonf: \n",
    "        jsonString = json.dumps(csv_rows, indent=4)\n",
    "        jsonf.write(jsonString)\n",
    "        \n",
    "csvFilePath = r'Resources/weather.csv'\n",
    "jsonFilePath = r'Resources/weather.json'\n",
    "csv_to_json(csvFilePath, jsonFilePath)"
   ]
  },
  {
   "cell_type": "code",
   "execution_count": 13,
   "metadata": {},
   "outputs": [],
   "source": [
    "#Import json2html package\n",
    "import json\n",
    "from json2html import *\n",
    "\n",
    "#Open input file path\n",
    "with open('Resources/weather.json') as f:\n",
    "    d=json.load(f)\n",
    "    scanOutput = json2html.convert(json=d)\n",
    "    htmlReportFile = \"Resources/weather.html\"\n",
    "    \n",
    "    #Open output file in path into write file \n",
    "    with open(htmlReportFile, 'w') as htmlfile:\n",
    "        htmlfile.write(str(scanOutput))"
   ]
  },
  {
   "cell_type": "code",
   "execution_count": null,
   "metadata": {},
   "outputs": [],
   "source": []
  }
 ],
 "metadata": {
  "anaconda-cloud": {},
  "kernel_info": {
   "name": "python3"
  },
  "kernelspec": {
   "display_name": "PythonData (base)",
   "language": "python",
   "name": "pythondata"
  },
  "language_info": {
   "codemirror_mode": {
    "name": "ipython",
    "version": 3
   },
   "file_extension": ".py",
   "mimetype": "text/x-python",
   "name": "python",
   "nbconvert_exporter": "python",
   "pygments_lexer": "ipython3",
   "version": "3.8.8"
  },
  "latex_envs": {
   "LaTeX_envs_menu_present": true,
   "autoclose": false,
   "autocomplete": true,
   "bibliofile": "biblio.bib",
   "cite_by": "apalike",
   "current_citInitial": 1,
   "eqLabelWithNumbers": true,
   "eqNumInitial": 1,
   "hotkeys": {
    "equation": "Ctrl-E",
    "itemize": "Ctrl-I"
   },
   "labels_anchors": false,
   "latex_user_defs": false,
   "report_style_numbering": false,
   "user_envs_cfg": false
  },
  "nteract": {
   "version": "0.12.3"
  }
 },
 "nbformat": 4,
 "nbformat_minor": 2
}
